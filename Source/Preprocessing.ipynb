{
 "cells": [
  {
   "cell_type": "code",
   "execution_count": 1,
   "id": "0e6807bb-1e48-4842-be48-745bda11829a",
   "metadata": {},
   "outputs": [],
   "source": [
    "import numpy as np\n",
    "import pandas as pd\n",
    "import seaborn as sns\n",
    "from datetime import datetime\n",
    "import matplotlib.pyplot as plt\n",
    "from Utils.read import read_data\n",
    "\n",
    "sns.set_theme()"
   ]
  },
  {
   "cell_type": "markdown",
   "id": "65fcd5a6",
   "metadata": {},
   "source": [
    "# Reading data"
   ]
  },
  {
   "cell_type": "code",
   "execution_count": 2,
   "id": "10f0e125",
   "metadata": {
    "scrolled": true,
    "tags": []
   },
   "outputs": [
    {
     "data": {
      "text/html": [
       "<div>\n",
       "<style scoped>\n",
       "    .dataframe tbody tr th:only-of-type {\n",
       "        vertical-align: middle;\n",
       "    }\n",
       "\n",
       "    .dataframe tbody tr th {\n",
       "        vertical-align: top;\n",
       "    }\n",
       "\n",
       "    .dataframe thead th {\n",
       "        text-align: right;\n",
       "    }\n",
       "</style>\n",
       "<table border=\"1\" class=\"dataframe\">\n",
       "  <thead>\n",
       "    <tr style=\"text-align: right;\">\n",
       "      <th></th>\n",
       "      <th>Fecha</th>\n",
       "      <th>Medida</th>\n",
       "      <th>Year</th>\n",
       "    </tr>\n",
       "  </thead>\n",
       "  <tbody>\n",
       "    <tr>\n",
       "      <th>0</th>\n",
       "      <td>2022-01-01 00:00:00</td>\n",
       "      <td>4.028715e+09</td>\n",
       "      <td>2022</td>\n",
       "    </tr>\n",
       "    <tr>\n",
       "      <th>1</th>\n",
       "      <td>2022-01-01 00:10:00</td>\n",
       "      <td>4.028726e+09</td>\n",
       "      <td>2022</td>\n",
       "    </tr>\n",
       "    <tr>\n",
       "      <th>2</th>\n",
       "      <td>2022-01-01 00:20:00</td>\n",
       "      <td>4.028738e+09</td>\n",
       "      <td>2022</td>\n",
       "    </tr>\n",
       "    <tr>\n",
       "      <th>3</th>\n",
       "      <td>2022-01-01 00:30:00</td>\n",
       "      <td>4.028749e+09</td>\n",
       "      <td>2022</td>\n",
       "    </tr>\n",
       "    <tr>\n",
       "      <th>4</th>\n",
       "      <td>2022-01-01 00:40:00</td>\n",
       "      <td>4.028760e+09</td>\n",
       "      <td>2022</td>\n",
       "    </tr>\n",
       "    <tr>\n",
       "      <th>5</th>\n",
       "      <td>2022-01-01 00:50:00</td>\n",
       "      <td>4.028771e+09</td>\n",
       "      <td>2022</td>\n",
       "    </tr>\n",
       "    <tr>\n",
       "      <th>6</th>\n",
       "      <td>2022-01-01 01:00:00</td>\n",
       "      <td>4.028782e+09</td>\n",
       "      <td>2022</td>\n",
       "    </tr>\n",
       "    <tr>\n",
       "      <th>7</th>\n",
       "      <td>2022-01-01 01:10:00</td>\n",
       "      <td>4.028793e+09</td>\n",
       "      <td>2022</td>\n",
       "    </tr>\n",
       "    <tr>\n",
       "      <th>8</th>\n",
       "      <td>2022-01-01 01:20:00</td>\n",
       "      <td>4.028805e+09</td>\n",
       "      <td>2022</td>\n",
       "    </tr>\n",
       "    <tr>\n",
       "      <th>9</th>\n",
       "      <td>2022-01-01 01:30:00</td>\n",
       "      <td>4.028816e+09</td>\n",
       "      <td>2022</td>\n",
       "    </tr>\n",
       "    <tr>\n",
       "      <th>10</th>\n",
       "      <td>2022-01-01 01:40:00</td>\n",
       "      <td>4.028827e+09</td>\n",
       "      <td>2022</td>\n",
       "    </tr>\n",
       "    <tr>\n",
       "      <th>11</th>\n",
       "      <td>2022-01-01 01:50:00</td>\n",
       "      <td>4.028838e+09</td>\n",
       "      <td>2022</td>\n",
       "    </tr>\n",
       "    <tr>\n",
       "      <th>12</th>\n",
       "      <td>2022-01-01 02:00:00</td>\n",
       "      <td>4.028850e+09</td>\n",
       "      <td>2022</td>\n",
       "    </tr>\n",
       "    <tr>\n",
       "      <th>13</th>\n",
       "      <td>2022-01-01 02:10:00</td>\n",
       "      <td>4.028861e+09</td>\n",
       "      <td>2022</td>\n",
       "    </tr>\n",
       "    <tr>\n",
       "      <th>14</th>\n",
       "      <td>2022-01-01 02:20:00</td>\n",
       "      <td>4.028872e+09</td>\n",
       "      <td>2022</td>\n",
       "    </tr>\n",
       "    <tr>\n",
       "      <th>15</th>\n",
       "      <td>2022-01-01 02:30:00</td>\n",
       "      <td>4.028884e+09</td>\n",
       "      <td>2022</td>\n",
       "    </tr>\n",
       "    <tr>\n",
       "      <th>16</th>\n",
       "      <td>2022-01-01 02:40:00</td>\n",
       "      <td>4.028895e+09</td>\n",
       "      <td>2022</td>\n",
       "    </tr>\n",
       "    <tr>\n",
       "      <th>17</th>\n",
       "      <td>2022-01-01 02:50:00</td>\n",
       "      <td>4.028906e+09</td>\n",
       "      <td>2022</td>\n",
       "    </tr>\n",
       "    <tr>\n",
       "      <th>18</th>\n",
       "      <td>2022-01-01 03:00:00</td>\n",
       "      <td>4.028917e+09</td>\n",
       "      <td>2022</td>\n",
       "    </tr>\n",
       "    <tr>\n",
       "      <th>19</th>\n",
       "      <td>2022-01-01 03:10:00</td>\n",
       "      <td>4.028928e+09</td>\n",
       "      <td>2022</td>\n",
       "    </tr>\n",
       "  </tbody>\n",
       "</table>\n",
       "</div>"
      ],
      "text/plain": [
       "                  Fecha        Medida  Year\n",
       "0   2022-01-01 00:00:00  4.028715e+09  2022\n",
       "1   2022-01-01 00:10:00  4.028726e+09  2022\n",
       "2   2022-01-01 00:20:00  4.028738e+09  2022\n",
       "3   2022-01-01 00:30:00  4.028749e+09  2022\n",
       "4   2022-01-01 00:40:00  4.028760e+09  2022\n",
       "5   2022-01-01 00:50:00  4.028771e+09  2022\n",
       "6   2022-01-01 01:00:00  4.028782e+09  2022\n",
       "7   2022-01-01 01:10:00  4.028793e+09  2022\n",
       "8   2022-01-01 01:20:00  4.028805e+09  2022\n",
       "9   2022-01-01 01:30:00  4.028816e+09  2022\n",
       "10  2022-01-01 01:40:00  4.028827e+09  2022\n",
       "11  2022-01-01 01:50:00  4.028838e+09  2022\n",
       "12  2022-01-01 02:00:00  4.028850e+09  2022\n",
       "13  2022-01-01 02:10:00  4.028861e+09  2022\n",
       "14  2022-01-01 02:20:00  4.028872e+09  2022\n",
       "15  2022-01-01 02:30:00  4.028884e+09  2022\n",
       "16  2022-01-01 02:40:00  4.028895e+09  2022\n",
       "17  2022-01-01 02:50:00  4.028906e+09  2022\n",
       "18  2022-01-01 03:00:00  4.028917e+09  2022\n",
       "19  2022-01-01 03:10:00  4.028928e+09  2022"
      ]
     },
     "execution_count": 2,
     "metadata": {},
     "output_type": "execute_result"
    }
   ],
   "source": [
    "df = read_data(ignore_irregular = True)\n",
    "df = df.assign(Year = df['Fecha'].apply(lambda x: x.year).values)\n",
    "df.head(20)"
   ]
  },
  {
   "cell_type": "markdown",
   "id": "ebfb616e-440f-4f39-a27c-13eeffd97e72",
   "metadata": {
    "tags": []
   },
   "source": [
    "## Checking the time periods"
   ]
  },
  {
   "cell_type": "code",
   "execution_count": 3,
   "id": "0b4e2ba5-8b3b-4fa9-847b-6354f1b6795a",
   "metadata": {},
   "outputs": [],
   "source": [
    "def get_minutes(date):\n",
    "    date_str = str(date)\n",
    "\n",
    "    return int(date_str.split(' ')[-1].split(':')[-2])\n",
    "\n",
    "def get_seconds(date):\n",
    "    date_str = str(date)\n",
    "    \n",
    "    return int(date_str.split(' ')[-1].split(':')[-1])"
   ]
  },
  {
   "cell_type": "markdown",
   "id": "09e39384-d095-4ea2-b319-962db0f6fecc",
   "metadata": {},
   "source": [
    "### Minutes"
   ]
  },
  {
   "cell_type": "code",
   "execution_count": 4,
   "id": "4431d7c3-25cb-4126-8e1a-1650e0deeb00",
   "metadata": {},
   "outputs": [
    {
     "data": {
      "image/png": "[encoded data removed]",
      "text/plain": [
       "<Figure size 1080x216 with 1 Axes>"
      ]
     },
     "metadata": {},
     "output_type": "display_data"
    }
   ],
   "source": [
    "df['minutes'] = df['Fecha'].apply(get_minutes)\n",
    "plt.figure(figsize = (15, 3))\n",
    "plt.title('Count of Minutes That Appear on the Data')\n",
    "df['minutes'].value_counts().plot(kind = 'bar');"
   ]
  },
  {
   "cell_type": "code",
   "execution_count": 5,
   "id": "8a24d1d9-62b7-4491-afd6-74f31a1f290e",
   "metadata": {
    "tags": []
   },
   "outputs": [
    {
     "data": {
      "text/html": [
       "<div>\n",
       "<style scoped>\n",
       "    .dataframe tbody tr th:only-of-type {\n",
       "        vertical-align: middle;\n",
       "    }\n",
       "\n",
       "    .dataframe tbody tr th {\n",
       "        vertical-align: top;\n",
       "    }\n",
       "\n",
       "    .dataframe thead th {\n",
       "        text-align: right;\n",
       "    }\n",
       "</style>\n",
       "<table border=\"1\" class=\"dataframe\">\n",
       "  <thead>\n",
       "    <tr style=\"text-align: right;\">\n",
       "      <th></th>\n",
       "      <th>30</th>\n",
       "      <th>40</th>\n",
       "      <th>10</th>\n",
       "      <th>50</th>\n",
       "      <th>0</th>\n",
       "      <th>20</th>\n",
       "      <th>33</th>\n",
       "      <th>36</th>\n",
       "      <th>34</th>\n",
       "      <th>53</th>\n",
       "      <th>...</th>\n",
       "      <th>14</th>\n",
       "      <th>17</th>\n",
       "      <th>24</th>\n",
       "      <th>39</th>\n",
       "      <th>46</th>\n",
       "      <th>44</th>\n",
       "      <th>6</th>\n",
       "      <th>57</th>\n",
       "      <th>49</th>\n",
       "      <th>18</th>\n",
       "    </tr>\n",
       "  </thead>\n",
       "  <tbody>\n",
       "    <tr>\n",
       "      <th>minutes</th>\n",
       "      <td>30387</td>\n",
       "      <td>30384</td>\n",
       "      <td>30383</td>\n",
       "      <td>30381</td>\n",
       "      <td>30381</td>\n",
       "      <td>30377</td>\n",
       "      <td>28</td>\n",
       "      <td>20</td>\n",
       "      <td>15</td>\n",
       "      <td>14</td>\n",
       "      <td>...</td>\n",
       "      <td>2</td>\n",
       "      <td>2</td>\n",
       "      <td>1</td>\n",
       "      <td>1</td>\n",
       "      <td>1</td>\n",
       "      <td>1</td>\n",
       "      <td>1</td>\n",
       "      <td>1</td>\n",
       "      <td>1</td>\n",
       "      <td>1</td>\n",
       "    </tr>\n",
       "  </tbody>\n",
       "</table>\n",
       "<p>1 rows × 47 columns</p>\n",
       "</div>"
      ],
      "text/plain": [
       "            30     40     10     50     0      20  33  36  34  53  ...  14  \\\n",
       "minutes  30387  30384  30383  30381  30381  30377  28  20  15  14  ...   2   \n",
       "\n",
       "         17  24  39  46  44  6   57  49  18  \n",
       "minutes   2   1   1   1   1   1   1   1   1  \n",
       "\n",
       "[1 rows x 47 columns]"
      ]
     },
     "execution_count": 5,
     "metadata": {},
     "output_type": "execute_result"
    }
   ],
   "source": [
    "pd.DataFrame(df['minutes'].value_counts()).T"
   ]
  },
  {
   "cell_type": "code",
   "execution_count": 6,
   "id": "d20e2975-2f99-4cb1-ab5e-56b854f02cff",
   "metadata": {},
   "outputs": [
    {
     "name": "stdout",
     "output_type": "stream",
     "text": [
      "Years in which irregular minutes appear [2022 2021 2020 2019]\n"
     ]
    }
   ],
   "source": [
    "years = df[\n",
    "    df['minutes'] % 10 != 0\n",
    "]['Year'].unique()\n",
    "\n",
    "print('Years in which irregular minutes appear {}'.format(years))"
   ]
  },
  {
   "cell_type": "code",
   "execution_count": 7,
   "id": "8c4b774c-71ec-4449-afd9-30448f56cfd3",
   "metadata": {},
   "outputs": [
    {
     "data": {
      "image/png": "[encoded data removed]",
      "text/plain": [
       "<Figure size 1080x216 with 1 Axes>"
      ]
     },
     "metadata": {},
     "output_type": "display_data"
    }
   ],
   "source": [
    "plt.figure(figsize = (15, 3))\n",
    "plt.title('Irregular Minutes Count By Year')\n",
    "df[\n",
    "    df['minutes'] % 10 != 0\n",
    "]['Year'].value_counts().plot(kind = 'bar');"
   ]
  },
  {
   "cell_type": "markdown",
   "id": "c24e5f7b-2ced-4340-8812-1ebbef8fa692",
   "metadata": {},
   "source": [
    "### Seconds"
   ]
  },
  {
   "cell_type": "code",
   "execution_count": 8,
   "id": "163cd847-7c0d-47f6-872d-5e1ae5c5905d",
   "metadata": {},
   "outputs": [
    {
     "data": {
      "image/png": "[encoded data removed]",
      "text/plain": [
       "<Figure size 1080x216 with 1 Axes>"
      ]
     },
     "metadata": {},
     "output_type": "display_data"
    }
   ],
   "source": [
    "df['seconds'] = df['Fecha'].apply(get_seconds)\n",
    "plt.figure(figsize = (15, 3))\n",
    "plt.title('Count of Seconds That Appear on the Data')\n",
    "df['seconds'].value_counts().plot(kind = 'bar');"
   ]
  },
  {
   "cell_type": "code",
   "execution_count": 9,
   "id": "6130c41f-caf6-40e1-b5e3-94a60ed7e9c2",
   "metadata": {},
   "outputs": [
    {
     "data": {
      "text/html": [
       "<div>\n",
       "<style scoped>\n",
       "    .dataframe tbody tr th:only-of-type {\n",
       "        vertical-align: middle;\n",
       "    }\n",
       "\n",
       "    .dataframe tbody tr th {\n",
       "        vertical-align: top;\n",
       "    }\n",
       "\n",
       "    .dataframe thead th {\n",
       "        text-align: right;\n",
       "    }\n",
       "</style>\n",
       "<table border=\"1\" class=\"dataframe\">\n",
       "  <thead>\n",
       "    <tr style=\"text-align: right;\">\n",
       "      <th></th>\n",
       "      <th>0</th>\n",
       "      <th>4</th>\n",
       "      <th>3</th>\n",
       "      <th>5</th>\n",
       "      <th>2</th>\n",
       "      <th>6</th>\n",
       "      <th>7</th>\n",
       "      <th>1</th>\n",
       "      <th>8</th>\n",
       "      <th>11</th>\n",
       "      <th>...</th>\n",
       "      <th>47</th>\n",
       "      <th>39</th>\n",
       "      <th>42</th>\n",
       "      <th>58</th>\n",
       "      <th>45</th>\n",
       "      <th>59</th>\n",
       "      <th>40</th>\n",
       "      <th>44</th>\n",
       "      <th>43</th>\n",
       "      <th>41</th>\n",
       "    </tr>\n",
       "  </thead>\n",
       "  <tbody>\n",
       "    <tr>\n",
       "      <th>seconds</th>\n",
       "      <td>73608</td>\n",
       "      <td>41006</td>\n",
       "      <td>37902</td>\n",
       "      <td>14832</td>\n",
       "      <td>10817</td>\n",
       "      <td>1888</td>\n",
       "      <td>357</td>\n",
       "      <td>241</td>\n",
       "      <td>167</td>\n",
       "      <td>109</td>\n",
       "      <td>...</td>\n",
       "      <td>13</td>\n",
       "      <td>13</td>\n",
       "      <td>13</td>\n",
       "      <td>11</td>\n",
       "      <td>11</td>\n",
       "      <td>10</td>\n",
       "      <td>10</td>\n",
       "      <td>9</td>\n",
       "      <td>8</td>\n",
       "      <td>3</td>\n",
       "    </tr>\n",
       "  </tbody>\n",
       "</table>\n",
       "<p>1 rows × 60 columns</p>\n",
       "</div>"
      ],
      "text/plain": [
       "            0      4      3      5      2     6    7    1    8    11  ...  47  \\\n",
       "seconds  73608  41006  37902  14832  10817  1888  357  241  167  109  ...  13   \n",
       "\n",
       "         39  42  58  45  59  40  44  43  41  \n",
       "seconds  13  13  11  11  10  10   9   8   3  \n",
       "\n",
       "[1 rows x 60 columns]"
      ]
     },
     "execution_count": 9,
     "metadata": {},
     "output_type": "execute_result"
    }
   ],
   "source": [
    "pd.DataFrame(df['seconds'].value_counts()).T"
   ]
  },
  {
   "cell_type": "code",
   "execution_count": 10,
   "id": "e9ddd809-c2d0-4982-a5cd-e48b93c75174",
   "metadata": {},
   "outputs": [
    {
     "name": "stdout",
     "output_type": "stream",
     "text": [
      "Years in which irregular seconds appear [2022 2021 2020 2019]\n"
     ]
    }
   ],
   "source": [
    "years = df[\n",
    "    df['seconds'] != 0\n",
    "]['Year'].unique()\n",
    "\n",
    "print('Years in which irregular seconds appear {}'.format(years))"
   ]
  },
  {
   "cell_type": "code",
   "execution_count": 11,
   "id": "56df0f36-cc64-4414-9017-07d59669dd95",
   "metadata": {},
   "outputs": [
    {
     "data": {
      "image/png": "[encoded data removed]",
      "text/plain": [
       "<Figure size 1080x216 with 1 Axes>"
      ]
     },
     "metadata": {},
     "output_type": "display_data"
    }
   ],
   "source": [
    "plt.figure(figsize = (15, 3))\n",
    "plt.title('Irregular Seconds Count By Year')\n",
    "df[\n",
    "    df['seconds'] != 0\n",
    "]['Year'].value_counts().plot(kind = 'bar');"
   ]
  },
  {
   "cell_type": "markdown",
   "id": "4bc0d437",
   "metadata": {},
   "source": [
    "# Fixing time periods\n",
    "Seconds and minutes do vary between measurements, so we're going to set the seconds to 0 and round the minutes to the closest multiples of 10 without repeating dates"
   ]
  },
  {
   "cell_type": "code",
   "execution_count": 12,
   "id": "76ed9ca9-86fe-409c-a330-70d1380af676",
   "metadata": {},
   "outputs": [
    {
     "data": {
      "text/plain": [
       "47        2022-01-01 07:53:00\n",
       "2615      2022-01-19 03:49:00\n",
       "14313     2022-04-10 10:01:00\n",
       "16008     2022-04-22 04:36:00\n",
       "16009     2022-04-22 04:36:00\n",
       "                 ...         \n",
       "173151    2019-10-27 17:52:14\n",
       "173152    2019-10-27 17:52:15\n",
       "173153    2019-10-27 17:52:17\n",
       "179878    2019-12-13 10:34:08\n",
       "179879    2019-12-13 10:34:10\n",
       "Name: Fecha, Length: 260, dtype: object"
      ]
     },
     "execution_count": 12,
     "metadata": {},
     "output_type": "execute_result"
    }
   ],
   "source": [
    "df[\n",
    "    df['minutes'] % 10 != 0\n",
    "]['Fecha']"
   ]
  },
  {
   "cell_type": "markdown",
   "id": "f5b0d831-0f7f-42a3-bebc-767de3b98939",
   "metadata": {
    "tags": []
   },
   "source": [
    "## Checking duplicates"
   ]
  },
  {
   "cell_type": "code",
   "execution_count": 13,
   "id": "955c2983-4a9b-4e70-8b21-50dd3d2832f9",
   "metadata": {},
   "outputs": [
    {
     "data": {
      "text/html": [
       "<div>\n",
       "<style scoped>\n",
       "    .dataframe tbody tr th:only-of-type {\n",
       "        vertical-align: middle;\n",
       "    }\n",
       "\n",
       "    .dataframe tbody tr th {\n",
       "        vertical-align: top;\n",
       "    }\n",
       "\n",
       "    .dataframe thead th {\n",
       "        text-align: right;\n",
       "    }\n",
       "</style>\n",
       "<table border=\"1\" class=\"dataframe\">\n",
       "  <thead>\n",
       "    <tr style=\"text-align: right;\">\n",
       "      <th></th>\n",
       "      <th>Fecha</th>\n",
       "      <th>Medida</th>\n",
       "      <th>Year</th>\n",
       "      <th>minutes</th>\n",
       "      <th>seconds</th>\n",
       "    </tr>\n",
       "  </thead>\n",
       "  <tbody>\n",
       "    <tr>\n",
       "      <th>16000</th>\n",
       "      <td>2022-04-22 03:10:00</td>\n",
       "      <td>4.190102e+09</td>\n",
       "      <td>2022</td>\n",
       "      <td>10</td>\n",
       "      <td>0</td>\n",
       "    </tr>\n",
       "    <tr>\n",
       "      <th>16001</th>\n",
       "      <td>2022-04-22 03:20:00</td>\n",
       "      <td>4.190112e+09</td>\n",
       "      <td>2022</td>\n",
       "      <td>20</td>\n",
       "      <td>0</td>\n",
       "    </tr>\n",
       "    <tr>\n",
       "      <th>16002</th>\n",
       "      <td>2022-04-22 03:30:00</td>\n",
       "      <td>4.190123e+09</td>\n",
       "      <td>2022</td>\n",
       "      <td>30</td>\n",
       "      <td>0</td>\n",
       "    </tr>\n",
       "    <tr>\n",
       "      <th>16003</th>\n",
       "      <td>2022-04-22 03:40:00</td>\n",
       "      <td>4.190134e+09</td>\n",
       "      <td>2022</td>\n",
       "      <td>40</td>\n",
       "      <td>0</td>\n",
       "    </tr>\n",
       "    <tr>\n",
       "      <th>16004</th>\n",
       "      <td>2022-04-22 03:50:00</td>\n",
       "      <td>4.190144e+09</td>\n",
       "      <td>2022</td>\n",
       "      <td>50</td>\n",
       "      <td>0</td>\n",
       "    </tr>\n",
       "    <tr>\n",
       "      <th>16005</th>\n",
       "      <td>2022-04-22 04:00:00</td>\n",
       "      <td>4.190155e+09</td>\n",
       "      <td>2022</td>\n",
       "      <td>0</td>\n",
       "      <td>0</td>\n",
       "    </tr>\n",
       "    <tr>\n",
       "      <th>16006</th>\n",
       "      <td>2022-04-22 04:10:00</td>\n",
       "      <td>4.190166e+09</td>\n",
       "      <td>2022</td>\n",
       "      <td>10</td>\n",
       "      <td>0</td>\n",
       "    </tr>\n",
       "    <tr>\n",
       "      <th>16007</th>\n",
       "      <td>2022-04-22 04:20:00</td>\n",
       "      <td>4.190176e+09</td>\n",
       "      <td>2022</td>\n",
       "      <td>20</td>\n",
       "      <td>0</td>\n",
       "    </tr>\n",
       "    <tr>\n",
       "      <th>16008</th>\n",
       "      <td>2022-04-22 04:36:00</td>\n",
       "      <td>4.190184e+09</td>\n",
       "      <td>2022</td>\n",
       "      <td>36</td>\n",
       "      <td>0</td>\n",
       "    </tr>\n",
       "    <tr>\n",
       "      <th>16009</th>\n",
       "      <td>2022-04-22 04:36:00</td>\n",
       "      <td>4.190184e+09</td>\n",
       "      <td>2022</td>\n",
       "      <td>36</td>\n",
       "      <td>0</td>\n",
       "    </tr>\n",
       "    <tr>\n",
       "      <th>16010</th>\n",
       "      <td>2022-04-22 04:40:00</td>\n",
       "      <td>4.190188e+09</td>\n",
       "      <td>2022</td>\n",
       "      <td>40</td>\n",
       "      <td>0</td>\n",
       "    </tr>\n",
       "    <tr>\n",
       "      <th>16011</th>\n",
       "      <td>2022-04-22 04:50:00</td>\n",
       "      <td>4.190198e+09</td>\n",
       "      <td>2022</td>\n",
       "      <td>50</td>\n",
       "      <td>0</td>\n",
       "    </tr>\n",
       "    <tr>\n",
       "      <th>16012</th>\n",
       "      <td>2022-04-22 05:00:00</td>\n",
       "      <td>4.190209e+09</td>\n",
       "      <td>2022</td>\n",
       "      <td>0</td>\n",
       "      <td>0</td>\n",
       "    </tr>\n",
       "    <tr>\n",
       "      <th>16013</th>\n",
       "      <td>2022-04-22 05:10:00</td>\n",
       "      <td>4.190219e+09</td>\n",
       "      <td>2022</td>\n",
       "      <td>10</td>\n",
       "      <td>0</td>\n",
       "    </tr>\n",
       "    <tr>\n",
       "      <th>16014</th>\n",
       "      <td>2022-04-22 05:20:00</td>\n",
       "      <td>4.190229e+09</td>\n",
       "      <td>2022</td>\n",
       "      <td>20</td>\n",
       "      <td>0</td>\n",
       "    </tr>\n",
       "    <tr>\n",
       "      <th>16015</th>\n",
       "      <td>2022-04-22 05:30:00</td>\n",
       "      <td>4.190240e+09</td>\n",
       "      <td>2022</td>\n",
       "      <td>30</td>\n",
       "      <td>0</td>\n",
       "    </tr>\n",
       "  </tbody>\n",
       "</table>\n",
       "</div>"
      ],
      "text/plain": [
       "                     Fecha        Medida  Year  minutes  seconds\n",
       "16000  2022-04-22 03:10:00  4.190102e+09  2022       10        0\n",
       "16001  2022-04-22 03:20:00  4.190112e+09  2022       20        0\n",
       "16002  2022-04-22 03:30:00  4.190123e+09  2022       30        0\n",
       "16003  2022-04-22 03:40:00  4.190134e+09  2022       40        0\n",
       "16004  2022-04-22 03:50:00  4.190144e+09  2022       50        0\n",
       "16005  2022-04-22 04:00:00  4.190155e+09  2022        0        0\n",
       "16006  2022-04-22 04:10:00  4.190166e+09  2022       10        0\n",
       "16007  2022-04-22 04:20:00  4.190176e+09  2022       20        0\n",
       "16008  2022-04-22 04:36:00  4.190184e+09  2022       36        0\n",
       "16009  2022-04-22 04:36:00  4.190184e+09  2022       36        0\n",
       "16010  2022-04-22 04:40:00  4.190188e+09  2022       40        0\n",
       "16011  2022-04-22 04:50:00  4.190198e+09  2022       50        0\n",
       "16012  2022-04-22 05:00:00  4.190209e+09  2022        0        0\n",
       "16013  2022-04-22 05:10:00  4.190219e+09  2022       10        0\n",
       "16014  2022-04-22 05:20:00  4.190229e+09  2022       20        0\n",
       "16015  2022-04-22 05:30:00  4.190240e+09  2022       30        0"
      ]
     },
     "execution_count": 13,
     "metadata": {},
     "output_type": "execute_result"
    }
   ],
   "source": [
    "df.loc[16000:16015]"
   ]
  },
  {
   "cell_type": "code",
   "execution_count": 14,
   "id": "96504732-b650-4c1e-95bf-6ca23463eb0c",
   "metadata": {},
   "outputs": [
    {
     "name": "stdout",
     "output_type": "stream",
     "text": [
      "4190183681.0\n",
      "4190183706.0\n"
     ]
    }
   ],
   "source": [
    "for value in df.iloc[16008:16009 + 1]['Medida'].values:\n",
    "    print(value)"
   ]
  },
  {
   "cell_type": "markdown",
   "id": "8ad9e7e7-c005-42a9-9c84-7914b527a9da",
   "metadata": {},
   "source": [
    "## Checking more than one measurement on the same minute"
   ]
  },
  {
   "cell_type": "code",
   "execution_count": 15,
   "id": "0b678b47-55d6-42b2-bc18-8de732f4f2a4",
   "metadata": {},
   "outputs": [
    {
     "data": {
      "text/html": [
       "<div>\n",
       "<style scoped>\n",
       "    .dataframe tbody tr th:only-of-type {\n",
       "        vertical-align: middle;\n",
       "    }\n",
       "\n",
       "    .dataframe tbody tr th {\n",
       "        vertical-align: top;\n",
       "    }\n",
       "\n",
       "    .dataframe thead th {\n",
       "        text-align: right;\n",
       "    }\n",
       "</style>\n",
       "<table border=\"1\" class=\"dataframe\">\n",
       "  <thead>\n",
       "    <tr style=\"text-align: right;\">\n",
       "      <th></th>\n",
       "      <th>Fecha</th>\n",
       "      <th>Medida</th>\n",
       "      <th>Year</th>\n",
       "      <th>minutes</th>\n",
       "      <th>seconds</th>\n",
       "    </tr>\n",
       "  </thead>\n",
       "  <tbody>\n",
       "    <tr>\n",
       "      <th>173145</th>\n",
       "      <td>2019-10-27 16:20:05</td>\n",
       "      <td>2.694867e+09</td>\n",
       "      <td>2019</td>\n",
       "      <td>20</td>\n",
       "      <td>5</td>\n",
       "    </tr>\n",
       "    <tr>\n",
       "      <th>173146</th>\n",
       "      <td>2019-10-27 16:30:02</td>\n",
       "      <td>2.694881e+09</td>\n",
       "      <td>2019</td>\n",
       "      <td>30</td>\n",
       "      <td>2</td>\n",
       "    </tr>\n",
       "    <tr>\n",
       "      <th>173147</th>\n",
       "      <td>2019-10-27 16:40:03</td>\n",
       "      <td>2.694896e+09</td>\n",
       "      <td>2019</td>\n",
       "      <td>40</td>\n",
       "      <td>3</td>\n",
       "    </tr>\n",
       "    <tr>\n",
       "      <th>173148</th>\n",
       "      <td>2019-10-27 17:52:09</td>\n",
       "      <td>2.694914e+09</td>\n",
       "      <td>2019</td>\n",
       "      <td>52</td>\n",
       "      <td>9</td>\n",
       "    </tr>\n",
       "    <tr>\n",
       "      <th>173149</th>\n",
       "      <td>2019-10-27 17:52:11</td>\n",
       "      <td>2.694914e+09</td>\n",
       "      <td>2019</td>\n",
       "      <td>52</td>\n",
       "      <td>11</td>\n",
       "    </tr>\n",
       "    <tr>\n",
       "      <th>173150</th>\n",
       "      <td>2019-10-27 17:52:12</td>\n",
       "      <td>2.694914e+09</td>\n",
       "      <td>2019</td>\n",
       "      <td>52</td>\n",
       "      <td>12</td>\n",
       "    </tr>\n",
       "    <tr>\n",
       "      <th>173151</th>\n",
       "      <td>2019-10-27 17:52:14</td>\n",
       "      <td>2.694914e+09</td>\n",
       "      <td>2019</td>\n",
       "      <td>52</td>\n",
       "      <td>14</td>\n",
       "    </tr>\n",
       "    <tr>\n",
       "      <th>173152</th>\n",
       "      <td>2019-10-27 17:52:15</td>\n",
       "      <td>2.694914e+09</td>\n",
       "      <td>2019</td>\n",
       "      <td>52</td>\n",
       "      <td>15</td>\n",
       "    </tr>\n",
       "    <tr>\n",
       "      <th>173153</th>\n",
       "      <td>2019-10-27 17:52:17</td>\n",
       "      <td>2.694914e+09</td>\n",
       "      <td>2019</td>\n",
       "      <td>52</td>\n",
       "      <td>17</td>\n",
       "    </tr>\n",
       "    <tr>\n",
       "      <th>173154</th>\n",
       "      <td>2019-10-27 18:00:03</td>\n",
       "      <td>2.694924e+09</td>\n",
       "      <td>2019</td>\n",
       "      <td>0</td>\n",
       "      <td>3</td>\n",
       "    </tr>\n",
       "  </tbody>\n",
       "</table>\n",
       "</div>"
      ],
      "text/plain": [
       "                      Fecha        Medida  Year  minutes  seconds\n",
       "173145  2019-10-27 16:20:05  2.694867e+09  2019       20        5\n",
       "173146  2019-10-27 16:30:02  2.694881e+09  2019       30        2\n",
       "173147  2019-10-27 16:40:03  2.694896e+09  2019       40        3\n",
       "173148  2019-10-27 17:52:09  2.694914e+09  2019       52        9\n",
       "173149  2019-10-27 17:52:11  2.694914e+09  2019       52       11\n",
       "173150  2019-10-27 17:52:12  2.694914e+09  2019       52       12\n",
       "173151  2019-10-27 17:52:14  2.694914e+09  2019       52       14\n",
       "173152  2019-10-27 17:52:15  2.694914e+09  2019       52       15\n",
       "173153  2019-10-27 17:52:17  2.694914e+09  2019       52       17\n",
       "173154  2019-10-27 18:00:03  2.694924e+09  2019        0        3"
      ]
     },
     "execution_count": 15,
     "metadata": {},
     "output_type": "execute_result"
    }
   ],
   "source": [
    "df.iloc[173145: 173155]"
   ]
  },
  {
   "cell_type": "markdown",
   "id": "7dce87ef-1f7d-4cf4-b8de-5904f370ea91",
   "metadata": {},
   "source": [
    "### Do the measurement value changes?"
   ]
  },
  {
   "cell_type": "code",
   "execution_count": 16,
   "id": "6d6ebeee-1565-4248-8b2e-025bdd20b944",
   "metadata": {},
   "outputs": [
    {
     "data": {
      "text/html": [
       "<div>\n",
       "<style scoped>\n",
       "    .dataframe tbody tr th:only-of-type {\n",
       "        vertical-align: middle;\n",
       "    }\n",
       "\n",
       "    .dataframe tbody tr th {\n",
       "        vertical-align: top;\n",
       "    }\n",
       "\n",
       "    .dataframe thead th {\n",
       "        text-align: right;\n",
       "    }\n",
       "</style>\n",
       "<table border=\"1\" class=\"dataframe\">\n",
       "  <thead>\n",
       "    <tr style=\"text-align: right;\">\n",
       "      <th></th>\n",
       "      <th>Fecha</th>\n",
       "      <th>Medida</th>\n",
       "      <th>Year</th>\n",
       "      <th>minutes</th>\n",
       "      <th>seconds</th>\n",
       "    </tr>\n",
       "  </thead>\n",
       "  <tbody>\n",
       "    <tr>\n",
       "      <th>173148</th>\n",
       "      <td>2019-10-27 17:52:09</td>\n",
       "      <td>2.694914e+09</td>\n",
       "      <td>2019</td>\n",
       "      <td>52</td>\n",
       "      <td>9</td>\n",
       "    </tr>\n",
       "    <tr>\n",
       "      <th>173149</th>\n",
       "      <td>2019-10-27 17:52:11</td>\n",
       "      <td>2.694914e+09</td>\n",
       "      <td>2019</td>\n",
       "      <td>52</td>\n",
       "      <td>11</td>\n",
       "    </tr>\n",
       "    <tr>\n",
       "      <th>173150</th>\n",
       "      <td>2019-10-27 17:52:12</td>\n",
       "      <td>2.694914e+09</td>\n",
       "      <td>2019</td>\n",
       "      <td>52</td>\n",
       "      <td>12</td>\n",
       "    </tr>\n",
       "    <tr>\n",
       "      <th>173151</th>\n",
       "      <td>2019-10-27 17:52:14</td>\n",
       "      <td>2.694914e+09</td>\n",
       "      <td>2019</td>\n",
       "      <td>52</td>\n",
       "      <td>14</td>\n",
       "    </tr>\n",
       "    <tr>\n",
       "      <th>173152</th>\n",
       "      <td>2019-10-27 17:52:15</td>\n",
       "      <td>2.694914e+09</td>\n",
       "      <td>2019</td>\n",
       "      <td>52</td>\n",
       "      <td>15</td>\n",
       "    </tr>\n",
       "    <tr>\n",
       "      <th>173153</th>\n",
       "      <td>2019-10-27 17:52:17</td>\n",
       "      <td>2.694914e+09</td>\n",
       "      <td>2019</td>\n",
       "      <td>52</td>\n",
       "      <td>17</td>\n",
       "    </tr>\n",
       "  </tbody>\n",
       "</table>\n",
       "</div>"
      ],
      "text/plain": [
       "                      Fecha        Medida  Year  minutes  seconds\n",
       "173148  2019-10-27 17:52:09  2.694914e+09  2019       52        9\n",
       "173149  2019-10-27 17:52:11  2.694914e+09  2019       52       11\n",
       "173150  2019-10-27 17:52:12  2.694914e+09  2019       52       12\n",
       "173151  2019-10-27 17:52:14  2.694914e+09  2019       52       14\n",
       "173152  2019-10-27 17:52:15  2.694914e+09  2019       52       15\n",
       "173153  2019-10-27 17:52:17  2.694914e+09  2019       52       17"
      ]
     },
     "execution_count": 16,
     "metadata": {},
     "output_type": "execute_result"
    }
   ],
   "source": [
    "df.iloc[173148:173153 + 1]"
   ]
  },
  {
   "cell_type": "code",
   "execution_count": 17,
   "id": "73c3eaad-aa7c-4bc9-be0e-673ea6bbc9fe",
   "metadata": {},
   "outputs": [
    {
     "name": "stdout",
     "output_type": "stream",
     "text": [
      "2694913724.5872\n",
      "2694913760.2245\n",
      "2694913791.5312\n",
      "2694913823.7773\n",
      "2694913855.7568\n",
      "2694913888.1462\n"
     ]
    }
   ],
   "source": [
    "for value in df.iloc[173148:173153 + 1]['Medida'].values:\n",
    "    print(value)"
   ]
  },
  {
   "cell_type": "code",
   "execution_count": 18,
   "id": "f2c9d7bd-eead-4db3-bfec-40f71136b57c",
   "metadata": {},
   "outputs": [
    {
     "data": {
      "image/png": "[encoded data removed]",
      "text/plain": [
       "<Figure size 720x360 with 1 Axes>"
      ]
     },
     "metadata": {},
     "output_type": "display_data"
    }
   ],
   "source": [
    "g = sns.displot(data = df['Medida'], kind = \"kde\", height = 5, aspect = 2)\n",
    "g.set(title = 'Measurements Distribution');"
   ]
  },
  {
   "cell_type": "code",
   "execution_count": 19,
   "id": "2215bfc0-0f74-46db-9f44-28808961764c",
   "metadata": {},
   "outputs": [
    {
     "data": {
      "image/png": "[encoded data removed]",
      "text/plain": [
       "<Figure size 720x360 with 1 Axes>"
      ]
     },
     "metadata": {},
     "output_type": "display_data"
    }
   ],
   "source": [
    "g = sns.displot(data = np.random.normal(size = 10000), kind = \"kde\", height = 5, aspect = 2)\n",
    "g.set(title = 'Normal Distribution');"
   ]
  },
  {
   "cell_type": "markdown",
   "id": "5770c8e3-45c2-4f29-91cb-f0229bd53fc2",
   "metadata": {},
   "source": [
    "There are two scenarios:\n",
    "\n",
    "* Same timestamp with different measure value\n",
    "* Different timestamp (referring to the same time) with different measure value\n",
    "\n",
    "The idea is to take the measures value, get the mean and input it to the timestamp (properly formatted). We are going to make sure the values make sense, to do this we're going to build a IQR range for the measurements distribution and take out of the mean the anomalous values"
   ]
  },
  {
   "cell_type": "markdown",
   "id": "37f45dbb-1c7b-4b0c-ac2e-224a0125be14",
   "metadata": {},
   "source": [
    "## IQR approach"
   ]
  },
  {
   "cell_type": "code",
   "execution_count": 20,
   "id": "5f90ec6e-9f86-4949-b361-572dd5f00a4c",
   "metadata": {},
   "outputs": [
    {
     "data": {
      "text/plain": [
       "(1030510417.1640997, 5802230676.9313)"
      ]
     },
     "execution_count": 20,
     "metadata": {},
     "output_type": "execute_result"
    }
   ],
   "source": [
    "Q1 = np.percentile(df['Medida'], 25, interpolation = 'midpoint')\n",
    "Q3 = np.percentile(df['Medida'], 75, interpolation = 'midpoint')\n",
    "IQR = Q3 - Q1\n",
    "low_lim = Q1 - 1.5 * IQR\n",
    "up_lim = Q3 + 1.5 * IQR\n",
    "\n",
    "interval = (low_lim, up_lim)\n",
    "interval"
   ]
  },
  {
   "cell_type": "markdown",
   "id": "8357b93d-7df2-4472-8625-fe39053d85e9",
   "metadata": {},
   "source": [
    "### Truncating dates"
   ]
  },
  {
   "cell_type": "code",
   "execution_count": 21,
   "id": "11070d97-25a2-4107-9dc4-d25774b63b7e",
   "metadata": {},
   "outputs": [
    {
     "data": {
      "text/plain": [
       "datetime.datetime(2022, 1, 1, 0, 0)"
      ]
     },
     "execution_count": 21,
     "metadata": {},
     "output_type": "execute_result"
    }
   ],
   "source": [
    "df['Fecha'].values[0]"
   ]
  },
  {
   "cell_type": "code",
   "execution_count": 22,
   "id": "2b2bbcff-d893-4e8e-a364-428dd1d0f3f6",
   "metadata": {},
   "outputs": [
    {
     "data": {
      "image/png": "[encoded data removed]",
      "text/plain": [
       "<Figure size 1080x216 with 1 Axes>"
      ]
     },
     "metadata": {},
     "output_type": "display_data"
    }
   ],
   "source": [
    "# Setting seconds to 0\n",
    "def set_seconds(date):\n",
    "    return date.replace(second = 0)\n",
    "\n",
    "df['Fecha'] = df['Fecha'].apply(set_seconds)\n",
    "df['seconds'] = df['Fecha'].apply(get_seconds)\n",
    "plt.figure(figsize = (15, 3))\n",
    "plt.title('Count of Seconds That Appear on the Data After Processing')\n",
    "df['seconds'].value_counts().plot(kind = 'bar');"
   ]
  },
  {
   "cell_type": "code",
   "execution_count": 23,
   "id": "e6213283-e716-453a-a71a-eb7b498315b4",
   "metadata": {},
   "outputs": [
    {
     "data": {
      "image/png": "[encoded data removed]",
      "text/plain": [
       "<Figure size 1080x216 with 1 Axes>"
      ]
     },
     "metadata": {},
     "output_type": "display_data"
    }
   ],
   "source": [
    "def round_minutes(date):\n",
    "    value = pd.to_datetime(date)\n",
    "    if(value.minute % 10 != 0):\n",
    "        value = value.replace(minute = value.minute // 10 * 10)\n",
    "\n",
    "    return value\n",
    "\n",
    "df['Fecha'] = df['Fecha'].apply(round_minutes)\n",
    "df['minutes'] = df['Fecha'].apply(get_minutes)\n",
    "plt.figure(figsize = (15, 3))\n",
    "plt.title('Count of Minutes That Appear on the Data After Processing')\n",
    "df['minutes'].value_counts().plot(kind = 'bar');"
   ]
  },
  {
   "cell_type": "markdown",
   "id": "ca089f75-9725-4c95-9bfd-b16e8e7348bb",
   "metadata": {},
   "source": [
    "### Getting mean of same time measurements"
   ]
  },
  {
   "cell_type": "code",
   "execution_count": 24,
   "id": "b3226d2c-4a53-4e05-8c57-728d62cf6914",
   "metadata": {},
   "outputs": [],
   "source": [
    "means = []\n",
    "for name, group in df.groupby('Fecha'):\n",
    "    values = group['Medida'].values\n",
    "    values_inrange = []\n",
    "    \n",
    "    if(len(values > 1)):\n",
    "        for value in values:\n",
    "            if(value >= interval[0] and value <= interval[1]):\n",
    "                values_inrange.append(value)\n",
    "    \n",
    "    else:\n",
    "        values_inrange = values\n",
    "    \n",
    "    mean = np.mean(values_inrange)\n",
    "    row = (name, mean)\n",
    "    \n",
    "    means.append((name, mean))\n",
    "\n",
    "means_df = pd.DataFrame(means, columns = ['Fecha', 'Media'])"
   ]
  },
  {
   "cell_type": "markdown",
   "id": "cf6c2f59-67c7-4056-8222-c44db534bcf8",
   "metadata": {},
   "source": [
    "### Changing values to mean"
   ]
  },
  {
   "cell_type": "code",
   "execution_count": 25,
   "id": "6105af52-0767-45b2-bd1e-b1edd56584d6",
   "metadata": {},
   "outputs": [],
   "source": [
    "df = df.drop_duplicates(subset = 'Fecha')\n",
    "convert_dict = {'Fecha': str}\n",
    "\n",
    "df = df.astype(convert_dict)\n",
    "means_df = means_df.astype(convert_dict)\n",
    "df = df.merge(means_df)\n",
    "df = df[['Fecha', 'Media', 'Year']]\n",
    "df.columns = ['Fecha', 'Medida', 'Year']"
   ]
  },
  {
   "cell_type": "code",
   "execution_count": 26,
   "id": "f149e555-1e99-47b4-b751-536b9adf1acf",
   "metadata": {},
   "outputs": [
    {
     "data": {
      "text/html": [
       "<div>\n",
       "<style scoped>\n",
       "    .dataframe tbody tr th:only-of-type {\n",
       "        vertical-align: middle;\n",
       "    }\n",
       "\n",
       "    .dataframe tbody tr th {\n",
       "        vertical-align: top;\n",
       "    }\n",
       "\n",
       "    .dataframe thead th {\n",
       "        text-align: right;\n",
       "    }\n",
       "</style>\n",
       "<table border=\"1\" class=\"dataframe\">\n",
       "  <thead>\n",
       "    <tr style=\"text-align: right;\">\n",
       "      <th></th>\n",
       "      <th>Fecha</th>\n",
       "      <th>Medida</th>\n",
       "      <th>Year</th>\n",
       "    </tr>\n",
       "  </thead>\n",
       "  <tbody>\n",
       "    <tr>\n",
       "      <th>0</th>\n",
       "      <td>2022-01-01 00:00:00</td>\n",
       "      <td>4.028715e+09</td>\n",
       "      <td>2022</td>\n",
       "    </tr>\n",
       "    <tr>\n",
       "      <th>1</th>\n",
       "      <td>2022-01-01 00:10:00</td>\n",
       "      <td>4.028726e+09</td>\n",
       "      <td>2022</td>\n",
       "    </tr>\n",
       "    <tr>\n",
       "      <th>2</th>\n",
       "      <td>2022-01-01 00:20:00</td>\n",
       "      <td>4.028738e+09</td>\n",
       "      <td>2022</td>\n",
       "    </tr>\n",
       "    <tr>\n",
       "      <th>3</th>\n",
       "      <td>2022-01-01 00:30:00</td>\n",
       "      <td>4.028749e+09</td>\n",
       "      <td>2022</td>\n",
       "    </tr>\n",
       "    <tr>\n",
       "      <th>4</th>\n",
       "      <td>2022-01-01 00:40:00</td>\n",
       "      <td>4.028760e+09</td>\n",
       "      <td>2022</td>\n",
       "    </tr>\n",
       "    <tr>\n",
       "      <th>...</th>\n",
       "      <td>...</td>\n",
       "      <td>...</td>\n",
       "      <td>...</td>\n",
       "    </tr>\n",
       "    <tr>\n",
       "      <th>182306</th>\n",
       "      <td>2019-12-31 23:10:00</td>\n",
       "      <td>2.839314e+09</td>\n",
       "      <td>2019</td>\n",
       "    </tr>\n",
       "    <tr>\n",
       "      <th>182307</th>\n",
       "      <td>2019-12-31 23:20:00</td>\n",
       "      <td>2.839326e+09</td>\n",
       "      <td>2019</td>\n",
       "    </tr>\n",
       "    <tr>\n",
       "      <th>182308</th>\n",
       "      <td>2019-12-31 23:30:00</td>\n",
       "      <td>2.839339e+09</td>\n",
       "      <td>2019</td>\n",
       "    </tr>\n",
       "    <tr>\n",
       "      <th>182309</th>\n",
       "      <td>2019-12-31 23:40:00</td>\n",
       "      <td>2.839351e+09</td>\n",
       "      <td>2019</td>\n",
       "    </tr>\n",
       "    <tr>\n",
       "      <th>182310</th>\n",
       "      <td>2019-12-31 23:50:00</td>\n",
       "      <td>2.839363e+09</td>\n",
       "      <td>2019</td>\n",
       "    </tr>\n",
       "  </tbody>\n",
       "</table>\n",
       "<p>182311 rows × 3 columns</p>\n",
       "</div>"
      ],
      "text/plain": [
       "                      Fecha        Medida  Year\n",
       "0       2022-01-01 00:00:00  4.028715e+09  2022\n",
       "1       2022-01-01 00:10:00  4.028726e+09  2022\n",
       "2       2022-01-01 00:20:00  4.028738e+09  2022\n",
       "3       2022-01-01 00:30:00  4.028749e+09  2022\n",
       "4       2022-01-01 00:40:00  4.028760e+09  2022\n",
       "...                     ...           ...   ...\n",
       "182306  2019-12-31 23:10:00  2.839314e+09  2019\n",
       "182307  2019-12-31 23:20:00  2.839326e+09  2019\n",
       "182308  2019-12-31 23:30:00  2.839339e+09  2019\n",
       "182309  2019-12-31 23:40:00  2.839351e+09  2019\n",
       "182310  2019-12-31 23:50:00  2.839363e+09  2019\n",
       "\n",
       "[182311 rows x 3 columns]"
      ]
     },
     "execution_count": 26,
     "metadata": {},
     "output_type": "execute_result"
    }
   ],
   "source": [
    "df"
   ]
  },
  {
   "cell_type": "markdown",
   "id": "c0e34e7a-0c2c-45f1-87c6-cf74ad2aff74",
   "metadata": {},
   "source": [
    "# Imputing missing dates"
   ]
  },
  {
   "cell_type": "markdown",
   "id": "405a8582",
   "metadata": {},
   "source": [
    "## Counting values by Year"
   ]
  },
  {
   "cell_type": "code",
   "execution_count": 27,
   "id": "92e050b0",
   "metadata": {},
   "outputs": [
    {
     "data": {
      "text/html": [
       "<div>\n",
       "<style scoped>\n",
       "    .dataframe tbody tr th:only-of-type {\n",
       "        vertical-align: middle;\n",
       "    }\n",
       "\n",
       "    .dataframe tbody tr th {\n",
       "        vertical-align: top;\n",
       "    }\n",
       "\n",
       "    .dataframe thead th {\n",
       "        text-align: right;\n",
       "    }\n",
       "</style>\n",
       "<table border=\"1\" class=\"dataframe\">\n",
       "  <thead>\n",
       "    <tr style=\"text-align: right;\">\n",
       "      <th></th>\n",
       "      <th>Fecha</th>\n",
       "      <th>Medida</th>\n",
       "    </tr>\n",
       "    <tr>\n",
       "      <th>Year</th>\n",
       "      <th></th>\n",
       "      <th></th>\n",
       "    </tr>\n",
       "  </thead>\n",
       "  <tbody>\n",
       "    <tr>\n",
       "      <th>2019</th>\n",
       "      <td>47168</td>\n",
       "      <td>47168</td>\n",
       "    </tr>\n",
       "    <tr>\n",
       "      <th>2020</th>\n",
       "      <td>48603</td>\n",
       "      <td>48603</td>\n",
       "    </tr>\n",
       "    <tr>\n",
       "      <th>2021</th>\n",
       "      <td>42607</td>\n",
       "      <td>42607</td>\n",
       "    </tr>\n",
       "    <tr>\n",
       "      <th>2022</th>\n",
       "      <td>43933</td>\n",
       "      <td>43933</td>\n",
       "    </tr>\n",
       "  </tbody>\n",
       "</table>\n",
       "</div>"
      ],
      "text/plain": [
       "      Fecha  Medida\n",
       "Year               \n",
       "2019  47168   47168\n",
       "2020  48603   48603\n",
       "2021  42607   42607\n",
       "2022  43933   43933"
      ]
     },
     "execution_count": 27,
     "metadata": {},
     "output_type": "execute_result"
    }
   ],
   "source": [
    "df.groupby('Year').count()"
   ]
  },
  {
   "cell_type": "markdown",
   "id": "47fef5b8-428d-4456-aac2-691c634ca2a2",
   "metadata": {},
   "source": [
    "## Comparing to must-be values"
   ]
  },
  {
   "cell_type": "code",
   "execution_count": 28,
   "id": "69fde3d2-ca59-447e-9728-291925b29817",
   "metadata": {},
   "outputs": [],
   "source": [
    "def get_year(date):\n",
    "    return int(date.split(' ')[0].split('-')[0])"
   ]
  },
  {
   "cell_type": "code",
   "execution_count": 29,
   "id": "7bceddfc",
   "metadata": {},
   "outputs": [],
   "source": [
    "dates_2019 = list(pd.date_range(start = '2019-01-01 00:00:00',\n",
    "                           end = '2019-12-31 23:50:00',\n",
    "                           freq = '10min'))\n",
    "\n",
    "dates_2020 = list(pd.date_range(start = '2020-01-01 00:00:00',\n",
    "                           end = '2020-12-31 23:50:00',\n",
    "                           freq = '10min'))\n",
    "\n",
    "dates_2021 = list(pd.date_range(start = '2021-01-01 00:00:00',\n",
    "                           end = '2021-12-31 23:50:00',\n",
    "                           freq = '10min'))\n",
    "\n",
    "dates_2022 = list(pd.date_range(start = '2022-01-01 00:00:00',\n",
    "                           end = '2022-12-31 23:50:00',\n",
    "                           freq = '10min'))"
   ]
  },
  {
   "cell_type": "code",
   "execution_count": 30,
   "id": "3a17de7f",
   "metadata": {},
   "outputs": [
    {
     "name": "stdout",
     "output_type": "stream",
     "text": [
      "2019 must have 52560 timestamps\n",
      "2020 must have 52704 timestamps\n",
      "2021 must have 52560 timestamps\n",
      "2022 must have 52560 timestamps\n"
     ]
    }
   ],
   "source": [
    "print('2019 must have', len(dates_2019), 'timestamps')\n",
    "print('2020 must have', len(dates_2020), 'timestamps')\n",
    "print('2021 must have', len(dates_2021), 'timestamps')\n",
    "print('2022 must have', len(dates_2022), 'timestamps')"
   ]
  },
  {
   "cell_type": "code",
   "execution_count": 31,
   "id": "a98f2a55-225e-451a-8dbd-b3321c3e011b",
   "metadata": {},
   "outputs": [
    {
     "data": {
      "text/plain": [
       "210384"
      ]
     },
     "execution_count": 31,
     "metadata": {},
     "output_type": "execute_result"
    }
   ],
   "source": [
    "52560 + 52560 + 52560 + 52704"
   ]
  },
  {
   "cell_type": "code",
   "execution_count": 32,
   "id": "441b6990-7339-4fb9-9f07-765763103261",
   "metadata": {},
   "outputs": [
    {
     "data": {
      "text/html": [
       "<div>\n",
       "<style scoped>\n",
       "    .dataframe tbody tr th:only-of-type {\n",
       "        vertical-align: middle;\n",
       "    }\n",
       "\n",
       "    .dataframe tbody tr th {\n",
       "        vertical-align: top;\n",
       "    }\n",
       "\n",
       "    .dataframe thead th {\n",
       "        text-align: right;\n",
       "    }\n",
       "</style>\n",
       "<table border=\"1\" class=\"dataframe\">\n",
       "  <thead>\n",
       "    <tr style=\"text-align: right;\">\n",
       "      <th></th>\n",
       "      <th>Fecha</th>\n",
       "    </tr>\n",
       "  </thead>\n",
       "  <tbody>\n",
       "    <tr>\n",
       "      <th>0</th>\n",
       "      <td>2019-01-01 00:00:00</td>\n",
       "    </tr>\n",
       "    <tr>\n",
       "      <th>1</th>\n",
       "      <td>2019-01-01 00:10:00</td>\n",
       "    </tr>\n",
       "    <tr>\n",
       "      <th>2</th>\n",
       "      <td>2019-01-01 00:20:00</td>\n",
       "    </tr>\n",
       "    <tr>\n",
       "      <th>3</th>\n",
       "      <td>2019-01-01 00:30:00</td>\n",
       "    </tr>\n",
       "    <tr>\n",
       "      <th>4</th>\n",
       "      <td>2019-01-01 00:40:00</td>\n",
       "    </tr>\n",
       "    <tr>\n",
       "      <th>...</th>\n",
       "      <td>...</td>\n",
       "    </tr>\n",
       "    <tr>\n",
       "      <th>210379</th>\n",
       "      <td>2022-12-31 23:10:00</td>\n",
       "    </tr>\n",
       "    <tr>\n",
       "      <th>210380</th>\n",
       "      <td>2022-12-31 23:20:00</td>\n",
       "    </tr>\n",
       "    <tr>\n",
       "      <th>210381</th>\n",
       "      <td>2022-12-31 23:30:00</td>\n",
       "    </tr>\n",
       "    <tr>\n",
       "      <th>210382</th>\n",
       "      <td>2022-12-31 23:40:00</td>\n",
       "    </tr>\n",
       "    <tr>\n",
       "      <th>210383</th>\n",
       "      <td>2022-12-31 23:50:00</td>\n",
       "    </tr>\n",
       "  </tbody>\n",
       "</table>\n",
       "<p>210384 rows × 1 columns</p>\n",
       "</div>"
      ],
      "text/plain": [
       "                      Fecha\n",
       "0       2019-01-01 00:00:00\n",
       "1       2019-01-01 00:10:00\n",
       "2       2019-01-01 00:20:00\n",
       "3       2019-01-01 00:30:00\n",
       "4       2019-01-01 00:40:00\n",
       "...                     ...\n",
       "210379  2022-12-31 23:10:00\n",
       "210380  2022-12-31 23:20:00\n",
       "210381  2022-12-31 23:30:00\n",
       "210382  2022-12-31 23:40:00\n",
       "210383  2022-12-31 23:50:00\n",
       "\n",
       "[210384 rows x 1 columns]"
      ]
     },
     "execution_count": 32,
     "metadata": {},
     "output_type": "execute_result"
    }
   ],
   "source": [
    "mustbe_df = pd.DataFrame(\n",
    "    data = {\n",
    "        'Fecha' : dates_2019 + dates_2020 + dates_2021 + dates_2022\n",
    "    }\n",
    ")\n",
    "mustbe_df = mustbe_df.astype(convert_dict)\n",
    "mustbe_df"
   ]
  },
  {
   "cell_type": "code",
   "execution_count": 33,
   "id": "603d9d3c-8532-4451-aac6-08adfe20b40f",
   "metadata": {},
   "outputs": [
    {
     "data": {
      "text/html": [
       "<div>\n",
       "<style scoped>\n",
       "    .dataframe tbody tr th:only-of-type {\n",
       "        vertical-align: middle;\n",
       "    }\n",
       "\n",
       "    .dataframe tbody tr th {\n",
       "        vertical-align: top;\n",
       "    }\n",
       "\n",
       "    .dataframe thead th {\n",
       "        text-align: right;\n",
       "    }\n",
       "</style>\n",
       "<table border=\"1\" class=\"dataframe\">\n",
       "  <thead>\n",
       "    <tr style=\"text-align: right;\">\n",
       "      <th></th>\n",
       "      <th>Fecha</th>\n",
       "      <th>Medida</th>\n",
       "      <th>Year</th>\n",
       "    </tr>\n",
       "  </thead>\n",
       "  <tbody>\n",
       "    <tr>\n",
       "      <th>0</th>\n",
       "      <td>2019-01-01 00:00:00</td>\n",
       "      <td>2.042297e+09</td>\n",
       "      <td>2019</td>\n",
       "    </tr>\n",
       "    <tr>\n",
       "      <th>1</th>\n",
       "      <td>2019-01-01 00:10:00</td>\n",
       "      <td>2.042308e+09</td>\n",
       "      <td>2019</td>\n",
       "    </tr>\n",
       "    <tr>\n",
       "      <th>2</th>\n",
       "      <td>2019-01-01 00:20:00</td>\n",
       "      <td>2.042321e+09</td>\n",
       "      <td>2019</td>\n",
       "    </tr>\n",
       "    <tr>\n",
       "      <th>3</th>\n",
       "      <td>2019-01-01 00:30:00</td>\n",
       "      <td>2.042332e+09</td>\n",
       "      <td>2019</td>\n",
       "    </tr>\n",
       "    <tr>\n",
       "      <th>4</th>\n",
       "      <td>2019-01-01 00:40:00</td>\n",
       "      <td>2.042343e+09</td>\n",
       "      <td>2019</td>\n",
       "    </tr>\n",
       "    <tr>\n",
       "      <th>...</th>\n",
       "      <td>...</td>\n",
       "      <td>...</td>\n",
       "      <td>...</td>\n",
       "    </tr>\n",
       "    <tr>\n",
       "      <th>210379</th>\n",
       "      <td>2022-12-31 23:10:00</td>\n",
       "      <td>NaN</td>\n",
       "      <td>2022</td>\n",
       "    </tr>\n",
       "    <tr>\n",
       "      <th>210380</th>\n",
       "      <td>2022-12-31 23:20:00</td>\n",
       "      <td>NaN</td>\n",
       "      <td>2022</td>\n",
       "    </tr>\n",
       "    <tr>\n",
       "      <th>210381</th>\n",
       "      <td>2022-12-31 23:30:00</td>\n",
       "      <td>NaN</td>\n",
       "      <td>2022</td>\n",
       "    </tr>\n",
       "    <tr>\n",
       "      <th>210382</th>\n",
       "      <td>2022-12-31 23:40:00</td>\n",
       "      <td>NaN</td>\n",
       "      <td>2022</td>\n",
       "    </tr>\n",
       "    <tr>\n",
       "      <th>210383</th>\n",
       "      <td>2022-12-31 23:50:00</td>\n",
       "      <td>NaN</td>\n",
       "      <td>2022</td>\n",
       "    </tr>\n",
       "  </tbody>\n",
       "</table>\n",
       "<p>210384 rows × 3 columns</p>\n",
       "</div>"
      ],
      "text/plain": [
       "                      Fecha        Medida  Year\n",
       "0       2019-01-01 00:00:00  2.042297e+09  2019\n",
       "1       2019-01-01 00:10:00  2.042308e+09  2019\n",
       "2       2019-01-01 00:20:00  2.042321e+09  2019\n",
       "3       2019-01-01 00:30:00  2.042332e+09  2019\n",
       "4       2019-01-01 00:40:00  2.042343e+09  2019\n",
       "...                     ...           ...   ...\n",
       "210379  2022-12-31 23:10:00           NaN  2022\n",
       "210380  2022-12-31 23:20:00           NaN  2022\n",
       "210381  2022-12-31 23:30:00           NaN  2022\n",
       "210382  2022-12-31 23:40:00           NaN  2022\n",
       "210383  2022-12-31 23:50:00           NaN  2022\n",
       "\n",
       "[210384 rows x 3 columns]"
      ]
     },
     "execution_count": 33,
     "metadata": {},
     "output_type": "execute_result"
    }
   ],
   "source": [
    "result = df[['Fecha', 'Medida']].merge(mustbe_df, on = 'Fecha', how = 'right').sort_values(by = 'Fecha')\n",
    "result['Year'] = result['Fecha'].apply(get_year)\n",
    "result"
   ]
  },
  {
   "cell_type": "code",
   "execution_count": 35,
   "id": "33547cd3-1fee-4408-8152-fe7d6c82c524",
   "metadata": {},
   "outputs": [
    {
     "data": {
      "text/plain": [
       "Year  Year\n",
       "2019  2019    52560\n",
       "2020  2020    52704\n",
       "2021  2021    52560\n",
       "2022  2022    52560\n",
       "Name: Year, dtype: int64"
      ]
     },
     "execution_count": 35,
     "metadata": {},
     "output_type": "execute_result"
    }
   ],
   "source": [
    "result.groupby('Year')['Year'].value_counts()"
   ]
  },
  {
   "cell_type": "markdown",
   "id": "57b50d32-f57a-4144-9472-53d0831c3312",
   "metadata": {},
   "source": [
    "# Saving data"
   ]
  },
  {
   "cell_type": "code",
   "execution_count": 40,
   "id": "3ba5ba54-6b8c-4de3-91ea-50424076bbf4",
   "metadata": {},
   "outputs": [],
   "source": [
    "result = result[['Fecha', 'Medida']]\n",
    "result.columns = ['Date', 'Consumption']"
   ]
  },
  {
   "cell_type": "code",
   "execution_count": 41,
   "id": "30bbe88d-ae5c-4e2b-a7e9-8fe02c3e72b3",
   "metadata": {},
   "outputs": [],
   "source": [
    "result.to_csv('../Data/Processed/data.csv', index = False)"
   ]
  }
 ],
 "metadata": {
  "kernelspec": {
   "display_name": "Python 3 (ipykernel)",
   "language": "python",
   "name": "python3"
  },
  "language_info": {
   "codemirror_mode": {
    "name": "ipython",
    "version": 3
   },
   "file_extension": ".py",
   "mimetype": "text/x-python",
   "name": "python",
   "nbconvert_exporter": "python",
   "pygments_lexer": "ipython3",
   "version": "3.9.7"
  }
 },
 "nbformat": 4,
 "nbformat_minor": 5
}
